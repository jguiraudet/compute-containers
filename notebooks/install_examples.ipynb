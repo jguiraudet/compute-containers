{
 "cells": [
  {
   "cell_type": "markdown",
   "metadata": {},
   "source": [
    "# Tensorflow examples\n",
    "Download and install various example code from the web"
   ]
  },
  {
   "cell_type": "code",
   "execution_count": 20,
   "metadata": {},
   "outputs": [],
   "source": [
    "%%bash\n",
    "if [ ! -e tensorflow ]; then \n",
    "    # Do a partial checkout of the directories we need\n",
    "    git clone --depth=1 --no-checkout https://github.com/tensorflow/tensorflow.git\n",
    "    cd tensorflow\n",
    "    git config core.sparsecheckout true\n",
    "    echo tensorflow/examples >> .git/info/sparse-checkout\n",
    "    git read-tree -mu HEAD\n",
    "fi\n",
    "        "
   ]
  },
  {
   "cell_type": "code",
   "execution_count": 21,
   "metadata": {},
   "outputs": [
    {
     "name": "stderr",
     "output_type": "stream",
     "text": [
      "Cloning into 'char-rnn-tensorflow'...\n"
     ]
    }
   ],
   "source": [
    "%%bash\n",
    "if [ ! -e char-rnn-tensorflow ]; then \n",
    "    git clone --depth=1 https://github.com/sherjilozair/char-rnn-tensorflow.git\n",
    "fi\n",
    "  "
   ]
  },
  {
   "cell_type": "code",
   "execution_count": null,
   "metadata": {},
   "outputs": [],
   "source": []
  }
 ],
 "metadata": {
  "kernelspec": {
   "display_name": "Python 3",
   "language": "python",
   "name": "python3"
  },
  "language_info": {
   "codemirror_mode": {
    "name": "ipython",
    "version": 3
   },
   "file_extension": ".py",
   "mimetype": "text/x-python",
   "name": "python",
   "nbconvert_exporter": "python",
   "pygments_lexer": "ipython3",
   "version": "3.4.3"
  }
 },
 "nbformat": 4,
 "nbformat_minor": 2
}
